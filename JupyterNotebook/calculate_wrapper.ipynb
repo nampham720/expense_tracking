{
 "cells": [
  {
   "cell_type": "code",
   "execution_count": null,
   "metadata": {},
   "outputs": [],
   "source": [
    "def get_total(visualise):\n",
    "    '''\n",
    "    Get the final sum from the txt_file input\n",
    "    '''\n",
    "    def calculate(txtfile):\n",
    "        with open(txtfile, \"r\") as f:\n",
    "            contents = f.readlines()\n",
    "\n",
    "        sums = dict()\n",
    "        for i in range(10):\n",
    "            sums[f\"sums_{i}\"] = 0\n",
    "\n",
    "        for content in contents[1:]:\n",
    "\n",
    "            content = content.split(\",\")\n",
    "\n",
    "            #content[0] = amount, content[1] = category index \n",
    "            content[0] = float(content[0])\n",
    "            content[1] = int(content[1])\n",
    "            sums[f\"sums_{content[1]}\"] += content[0]\n",
    "\n",
    "        return visualise(sums)\n",
    "    return calculate"
   ]
  }
 ],
 "metadata": {
  "kernelspec": {
   "display_name": "Python 3",
   "language": "python",
   "name": "python3"
  },
  "language_info": {
   "codemirror_mode": {
    "name": "ipython",
    "version": 3
   },
   "file_extension": ".py",
   "mimetype": "text/x-python",
   "name": "python",
   "nbconvert_exporter": "python",
   "pygments_lexer": "ipython3",
   "version": "3.8.5"
  }
 },
 "nbformat": 4,
 "nbformat_minor": 4
}
