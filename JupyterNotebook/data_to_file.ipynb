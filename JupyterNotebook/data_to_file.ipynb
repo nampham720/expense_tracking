{
 "cells": [
  {
   "cell_type": "code",
   "execution_count": null,
   "metadata": {},
   "outputs": [],
   "source": [
    "import pprint\n",
    "\n",
    "def display_categories(out=False):\n",
    "    '''\n",
    "    Show the categories\\n\n",
    "    out: True or False, print out the references\n",
    "    '''\n",
    "    ref_cat_value = [(0, \"salary\"),\n",
    "                     (1, \"fixed - must pay\"),\n",
    "                     (2, \"saving\"),\n",
    "                     (3, \"food\"),\n",
    "                     (4, \"beverage\"),\n",
    "                     (5, \"flower\"),\n",
    "                     (6, \"transport\"),\n",
    "                     (7, \"shopping\"),\n",
    "                     (8, \"others\")]\n",
    "    if out == True:\n",
    "        pprint.PrettyPrinter().pprint([i for i in ref_cat_value])\n",
    "    return ref_cat_value\n",
    "\n",
    "\n",
    "\n",
    "def write_data(txtfile):\n",
    "    '''\n",
    "    Input and write new data to designated file\\n\n",
    "    txtfile: designated file \n",
    "    '''\n",
    "    with open(txtfile, \"a+\") as f:\n",
    "        correct_input = True\n",
    "        while correct_input:\n",
    "            try:\n",
    "                expense = float(input(\"Enter the amount:\"))\n",
    "                category = int(input(\"Enter the category:\"))\n",
    "                date = int(input(\"Enter the date:\"))\n",
    "                description = str(input(\"Enter additional description:\"))\n",
    "                if category in range(10) and date in range(32):\n",
    "                    correct_input = False\n",
    "            except:\n",
    "                print(\"Wrong input type. Please enter again. Refer to DEFINITIONS.\")\n",
    "        \n",
    "        ref_cat_value = display_categories()\n",
    "        for i in ref_cat_value:\n",
    "            if i[0] == category:\n",
    "                cat_explain = i[1]\n",
    "        if category == 0:\n",
    "            input_format = f\"\\n{expense},{category},{cat_explain},{date},{description}\"\n",
    "        else:\n",
    "            input_format = f\"\\n{-expense},{category},{cat_explain},{date},{description}\"\n",
    "        f.write(input_format)\n",
    "        print(\"Data added.\")"
   ]
  }
 ],
 "metadata": {
  "kernelspec": {
   "display_name": "Python 3",
   "language": "python",
   "name": "python3"
  },
  "language_info": {
   "codemirror_mode": {
    "name": "ipython",
    "version": 3
   },
   "file_extension": ".py",
   "mimetype": "text/x-python",
   "name": "python",
   "nbconvert_exporter": "python",
   "pygments_lexer": "ipython3",
   "version": "3.8.5"
  }
 },
 "nbformat": 4,
 "nbformat_minor": 4
}
