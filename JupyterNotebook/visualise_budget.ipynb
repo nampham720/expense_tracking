{
 "cells": [
  {
   "cell_type": "code",
   "execution_count": 4,
   "metadata": {},
   "outputs": [],
   "source": [
    "import matplotlib.pyplot as plt\n",
    "from ipynb.fs.full.calculate_wrapper import get_total\n",
    "from ipynb.fs.full.data_to_file import display_categories\n",
    "\n",
    "@get_total\n",
    "def visualise(sums):\n",
    "    \n",
    "    fig, (ax1, ax2) = plt.subplots(1, 2, figsize=(15,5))\n",
    "    # Calculation\n",
    "    expenses = [sums[f\"sums_{i}\"] for i in range(1,9)]\n",
    "    \n",
    "    #get the reference_categories_value\n",
    "    ref_cat_value = display_categories(out=False)\n",
    "    categories = [i[1] for i in ref_cat_value[1:]]\n",
    "    incomes = round(sums['sums_0'] + sums['sums_9'], 2)\n",
    "\n",
    "    # Joint var\n",
    "    remain = round(incomes + sum(expenses), 2)\n",
    "    expenses.append(remain)\n",
    "    categories.append(\"Remain\")\n",
    "    \n",
    "    # Pie chart\n",
    "    pie_expenses = [abs(i) for i in expenses if i != 0]\n",
    "    categories = categories[:len(pie_expenses)]\n",
    "    ax1.pie(pie_expenses, labels = categories, autopct='%1.2f%%',startangle=90)\n",
    "    ax1.axis('equal')\n",
    "\n",
    "    # Bar chart\n",
    "    labels = [\"Incomes\", \"Expenses\", \"Remain\"]\n",
    "    values = [incomes, abs(round(sum(expenses[:-1]), 2)), remain]\n",
    "    ax2.bar(labels, values, width=0.5, color=[\"blue\", \"red\", \"green\"])\n",
    "\n",
    "    for index,data in enumerate(values):\n",
    "        plt.text(x=index , y=data+20 , s=f\"{data}\", fontdict=dict(fontsize=13), ha=\"center\")\n",
    "    \n",
    "    plt.show()"
   ]
  },
  {
   "cell_type": "code",
   "execution_count": null,
   "metadata": {},
   "outputs": [],
   "source": []
  }
 ],
 "metadata": {
  "kernelspec": {
   "display_name": "Python 3",
   "language": "python",
   "name": "python3"
  },
  "language_info": {
   "codemirror_mode": {
    "name": "ipython",
    "version": 3
   },
   "file_extension": ".py",
   "mimetype": "text/x-python",
   "name": "python",
   "nbconvert_exporter": "python",
   "pygments_lexer": "ipython3",
   "version": "3.8.5"
  }
 },
 "nbformat": 4,
 "nbformat_minor": 4
}
