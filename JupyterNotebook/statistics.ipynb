{
 "cells": [
  {
   "cell_type": "code",
   "execution_count": 1,
   "metadata": {},
   "outputs": [],
   "source": [
    "import pprint\n",
    "import pandas as pd\n",
    "from datetime import date"
   ]
  },
  {
   "cell_type": "code",
   "execution_count": 2,
   "metadata": {},
   "outputs": [],
   "source": [
    "def stats_generate(txtfile):\n",
    "    today = date.today()\n",
    "    today = int(str(today).split(\"-\")[-1])\n",
    "    \n",
    "    \n",
    "    df = pd.read_csv(txtfile)\n",
    "    print('Brief Summary')\n",
    "    print(df.groupby(['category', 'category_explain']).sum()['amount'])\n",
    "    \n",
    "    print(\"\\n\")\n",
    "    \n",
    "    print('Last 7 Days Expenses')\n",
    "    dx = df[df['date'] >= today -7]\n",
    "    dff = dx.groupby(['category', 'category_explain']).sum()['amount']\n",
    "    print(dff)\n",
    "        \n"
   ]
  }
 ],
 "metadata": {
  "kernelspec": {
   "display_name": "Python 3",
   "language": "python",
   "name": "python3"
  },
  "language_info": {
   "codemirror_mode": {
    "name": "ipython",
    "version": 3
   },
   "file_extension": ".py",
   "mimetype": "text/x-python",
   "name": "python",
   "nbconvert_exporter": "python",
   "pygments_lexer": "ipython3",
   "version": "3.8.5"
  }
 },
 "nbformat": 4,
 "nbformat_minor": 4
}
